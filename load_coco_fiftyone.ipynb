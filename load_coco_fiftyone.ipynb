{
 "cells": [
  {
   "cell_type": "markdown",
   "id": "a12efe41-2b3f-4048-aec7-297894922d9a",
   "metadata": {},
   "source": [
    "## Code to download water bottle COCO images into ./data/water_bottles_data"
   ]
  },
  {
   "cell_type": "markdown",
   "id": "f6f6a1b2-2894-44a5-a516-dca39b7995f3",
   "metadata": {},
   "source": [
    "Following quickstart tutorial found here: https://colab.research.google.com/github/voxel51/fiftyone-examples/blob/master/examples/quickstart.ipynb"
   ]
  },
  {
   "cell_type": "code",
   "execution_count": 29,
   "id": "4cdfd766-13c3-4896-95b9-8636cc7782f1",
   "metadata": {},
   "outputs": [],
   "source": [
    "# !pip install fiftyone"
   ]
  },
  {
   "cell_type": "code",
   "execution_count": 19,
   "id": "00edd17e-c7ba-40d5-8ad2-24b482791572",
   "metadata": {},
   "outputs": [
    {
     "name": "stdout",
     "output_type": "stream",
     "text": [
      "Downloading split 'train' to '/root/fiftyone/coco-2017/train' if necessary\n",
      "Found annotations at '/root/fiftyone/coco-2017/raw/instances_train2017.json'\n",
      "Sufficient images already downloaded\n",
      "Existing download of split 'train' is sufficient\n",
      "Ignoring unsupported parameter 'download' for importer type <class 'fiftyone.utils.coco.COCODetectionDatasetImporter'>\n",
      "Loading existing dataset 'coco-2017-train-500'. To reload from disk, either delete the existing dataset or provide a custom `dataset_name` to use\n"
     ]
    }
   ],
   "source": [
    "import fiftyone as fo\n",
    "import fiftyone.zoo as foz\n",
    "\n",
    "# Load a subset of COCO 2017 train set with annotations including \"bottle\"\n",
    "dataset = foz.load_zoo_dataset(\n",
    "    \"coco-2017\",\n",
    "    split=\"train\",\n",
    "    label_types=[\"detections\"],\n",
    "    classes=[\"bottle\"],\n",
    "    max_samples=500,  # Change this as needed\n",
    "    download=True\n",
    ")\n"
   ]
  },
  {
   "cell_type": "code",
   "execution_count": 12,
   "id": "908f71b7-c67b-4208-b7b5-8278ac705d32",
   "metadata": {},
   "outputs": [
    {
     "name": "stdout",
     "output_type": "stream",
     "text": [
      "('id', 'filepath', 'tags', 'metadata', 'created_at', 'last_modified_at', 'ground_truth')\n"
     ]
    }
   ],
   "source": [
    "# Look at the first sample to inspect field names\n",
    "sample = dataset.first()\n",
    "print(sample.field_names)"
   ]
  },
  {
   "cell_type": "code",
   "execution_count": 13,
   "id": "e15cfe1e-0055-4986-91a9-29193813564e",
   "metadata": {},
   "outputs": [],
   "source": [
    "from fiftyone import ViewField as F\n",
    "\n",
    "# Keep only detections where label == \"bottle\"\n",
    "bottle_view = dataset.filter_labels(\"ground_truth\", F(\"label\") == \"bottle\")\n",
    "\n",
    "# Remove samples that ended up with no bottle detections\n",
    "bottle_view = bottle_view.match(F(\"ground_truth.detections\").length() > 0)\n"
   ]
  },
  {
   "cell_type": "code",
   "execution_count": 18,
   "id": "7f260009-a1f7-43ed-8a26-700628b8f83a",
   "metadata": {},
   "outputs": [
    {
     "name": "stdout",
     "output_type": "stream",
     "text": [
      " 100% |█████████████████| 500/500 [923.1ms elapsed, 0s remaining, 543.5 samples/s]      \n"
     ]
    }
   ],
   "source": [
    "bottle_view.export(\n",
    "    export_dir=\"/data/water_bottle_data\",  # Change this to your desired path\n",
    "    dataset_type=fo.types.YOLOv5Dataset,  # YOLO-compatible format\n",
    "    label_field=\"ground_truth\",\n",
    "    split=\"train\",\n",
    ")"
   ]
  },
  {
   "cell_type": "code",
   "execution_count": 17,
   "id": "02919a89-0ba7-468d-ae32-40d843859c4e",
   "metadata": {},
   "outputs": [
    {
     "name": "stdout",
     "output_type": "stream",
     "text": [
      " COE379L\t\t\t\t  load_coco.ipynb\n",
      "'COE379L Project4 Initial Proposal.pdf'   load_coco_fiftyone.ipynb\n",
      " LICENSE\t\t\t\t  requirements.txt\n",
      " annotations\t\t\t\t  results\n",
      " annotations_trainval2017.zip\t\t  training\n",
      " data\n"
     ]
    }
   ],
   "source": [
    "!ls"
   ]
  },
  {
   "cell_type": "code",
   "execution_count": 20,
   "id": "dd1aa0ec-affb-4916-bc79-bd25699d3553",
   "metadata": {},
   "outputs": [
    {
     "name": "stdout",
     "output_type": "stream",
     "text": [
      "Number of samples in view: 500\n",
      "Sample filepaths: ['/root/fiftyone/coco-2017/train/data/000000024849.jpg', '/root/fiftyone/coco-2017/train/data/000000021190.jpg', '/root/fiftyone/coco-2017/train/data/000000019456.jpg', '/root/fiftyone/coco-2017/train/data/000000001145.jpg', '/root/fiftyone/coco-2017/train/data/000000010243.jpg']\n"
     ]
    }
   ],
   "source": [
    "print(\"Number of samples in view:\", len(bottle_view))\n",
    "print(\"Sample filepaths:\", [sample.filepath for sample in bottle_view.take(5)])\n"
   ]
  },
  {
   "cell_type": "code",
   "execution_count": 28,
   "id": "3fa8fdae-9d49-4e6b-aac3-7c730419b6e0",
   "metadata": {},
   "outputs": [
    {
     "name": "stdout",
     "output_type": "stream",
     "text": [
      " 100% |█████████████████| 500/500 [940.8ms elapsed, 0s remaining, 553.7 samples/s]      \n"
     ]
    }
   ],
   "source": [
    "bottle_view.export(\n",
    "    export_dir=\"./data/water_bottle_data\",  # Make sure this path exists or can be created\n",
    "    dataset_type=fo.types.YOLOv5Dataset,\n",
    "    label_field=\"ground_truth\",\n",
    "    split=\"train\",\n",
    ")\n"
   ]
  },
  {
   "cell_type": "code",
   "execution_count": 26,
   "id": "84012d98-7f78-4da2-9881-efb482a3a669",
   "metadata": {},
   "outputs": [
    {
     "name": "stdout",
     "output_type": "stream",
     "text": [
      "'COE379L Project4 Initial Proposal.pdf'   data\t\t\t     results\n",
      " LICENSE\t\t\t\t  load_coco.ipynb\t     training\n",
      " annotations\t\t\t\t  load_coco_fiftyone.ipynb\n",
      " annotations_trainval2017.zip\t\t  requirements.txt\n"
     ]
    }
   ],
   "source": [
    "!ls"
   ]
  },
  {
   "cell_type": "code",
   "execution_count": null,
   "id": "82045c66-67ed-4f11-bdb7-616830c43cff",
   "metadata": {},
   "outputs": [],
   "source": []
  }
 ],
 "metadata": {
  "kernelspec": {
   "display_name": "Python 3 (ipykernel)",
   "language": "python",
   "name": "python3"
  },
  "language_info": {
   "codemirror_mode": {
    "name": "ipython",
    "version": 3
   },
   "file_extension": ".py",
   "mimetype": "text/x-python",
   "name": "python",
   "nbconvert_exporter": "python",
   "pygments_lexer": "ipython3",
   "version": "3.12.10"
  }
 },
 "nbformat": 4,
 "nbformat_minor": 5
}
